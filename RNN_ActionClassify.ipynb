{
 "cells": [
  {
   "cell_type": "markdown",
   "metadata": {},
   "source": [
    "# Sequence Classification using Recurrent Neural Networks(RNN)\n",
    "In this homework, you will learn how to train a recurrent neural network for human action classification. RNN is designed handle sequential data. The network can incorporate both past history and current input. [This](http://colah.github.io/posts/2015-08-Understanding-LSTMs/) is a very good tutorial. You should read it before you start."
   ]
  },
  {
   "cell_type": "markdown",
   "metadata": {},
   "source": [
    "## Setup\n",
    "Please make sure you have h5py and torchnet installed\n",
    "> pip install h5py\n",
    "\n",
    "> pip install git+https://github.com/pytorch/tnt.git@master\n"
   ]
  },
  {
   "cell_type": "code",
   "execution_count": 7,
   "metadata": {},
   "outputs": [
    {
     "name": "stdout",
     "output_type": "stream",
     "text": [
      "use cuda: False\n"
     ]
    }
   ],
   "source": [
    "import os\n",
    "import numpy as np\n",
    "import h5py\n",
    "\n",
    "import torch\n",
    "import torch.nn as nn\n",
    "from torch.autograd import Variable\n",
    "import torch.utils.data as DD\n",
    "import torchnet as tnt\n",
    "\n",
    "use_cuda = torch.cuda.is_available()\n",
    "print('use cuda: %s'%(use_cuda))\n",
    "FloatTensor = torch.cuda.FloatTensor if use_cuda else torch.FloatTensor\n",
    "LongTensor = torch.cuda.LongTensor if use_cuda else torch.LongTensor\n",
    "ByteTensor = torch.cuda.ByteTensor if use_cuda else torch.ByteTensor\n"
   ]
  },
  {
   "cell_type": "markdown",
   "metadata": {},
   "source": [
    "## Dataset\n",
    "The data we are using is skeleton data, which indicates the 3D locations of body joints. In total, there are 25 body joints. It is collected by Kinect v2. To make it easier, each sequence have same number of frames. You need to classify 10 different actions. There are 2000 training sequences, 400 validation sequences, and 500 test sequences. Each sequence has 15 frames, each frame is a 75-dimension vector (3*25).\n",
    "\n",
    "For your convenience, we provide the dataloader for you.\n"
   ]
  },
  {
   "cell_type": "code",
   "execution_count": 8,
   "metadata": {
    "collapsed": true
   },
   "outputs": [],
   "source": [
    "class Dataset(DD.Dataset):\n",
    "    # subset can be: 'train', 'val', 'test'\n",
    "    def __init__(self, data_path, subset='train'):\n",
    "        super(Dataset, self).__init__()\n",
    "        self.data_path = os.path.join(data_path, '%s_data.h5'%subset)\n",
    "        self.subset = subset\n",
    "\n",
    "        with h5py.File(self.data_path) as f:\n",
    "            self.data = np.array(f['data'])\n",
    "\n",
    "        if subset != 'test':\n",
    "            self.label_path = os.path.join(data_path, '%s_label.h5'%subset)\n",
    "            with h5py.File(self.label_path) as f:\n",
    "                self.label = np.array(f['label'])\n",
    "\n",
    "        self.num_sequences = self.data.shape[0]\n",
    "        self.seq_len = self.data.shape[1]\n",
    "        self.n_dim = self.data.shape[2]\n",
    "\n",
    "    def __getitem__(self, index):\n",
    "        seq = self.data[index]\n",
    "        if self.subset != 'test':\n",
    "            label = int(self.label[index])\n",
    "            sample = {'seq': seq, 'label': label}\n",
    "        else:\n",
    "            sample = {'seq': seq}\n",
    "        return sample\n",
    "\n",
    "    def __len__(self):\n",
    "        return self.num_sequences\n",
    "\n",
    "trSet = Dataset('./data', subset='train')\n",
    "valSet = Dataset('./data', subset='val')\n",
    "tstSet = Dataset('./data', subset='test')\n",
    "\n",
    "batch_size = 50\n",
    "trLD = DD.DataLoader(trSet, batch_size=batch_size,\n",
    "       sampler=DD.sampler.RandomSampler(trSet),\n",
    "       num_workers=0, pin_memory=False)\n",
    "valLD = DD.DataLoader(valSet, batch_size=batch_size,\n",
    "       sampler=DD.sampler.SequentialSampler(valSet),\n",
    "       num_workers=0, pin_memory=False)\n",
    "tstLD = DD.DataLoader(tstSet, batch_size=batch_size,\n",
    "       sampler=DD.sampler.SequentialSampler(tstSet),\n",
    "       num_workers=0, pin_memory=False)\n",
    "\n",
    "input_dim = trSet.n_dim\n",
    "num_class = 10"
   ]
  },
  {
   "cell_type": "markdown",
   "metadata": {},
   "source": [
    "## Model\n",
    "Pytorch has implemented different types of recurrent layers for you. For this homework, you can use any type of RNNs as you want:\n",
    "> torch.nn.RNN()\n",
    "\n",
    "> torch.nn.LSTM()\n",
    "\n",
    "> torch.nn.GRU()\n",
    "\n",
    "You can check details for different types of recurrent layers here: [RNN](http://pytorch.org/docs/master/nn.html#torch.nn.RNN), [LSTM]( http://pytorch.org/docs/master/nn.html#torch.nn.LSTM), [GRU](http://pytorch.org/docs/master/nn.html#torch.nn.GRU)\n",
    "\n",
    "\n",
    "### Implement a specific model\n",
    "In this section, you need to implement a model for sequence classification. The model has following layers:\n",
    "* A linear layer that can map features of 75-dimension to 100-dimension.\n",
    "* 1 Layer LSTM layer with hidden size of 100\n",
    "* A linear layer that goes from 100 to num_class (10). \n",
    "\n",
    "An LSTM layer takes an input of size of (batch_size, seq_len, fea_dim) and outputs a variable of shape (batch_size, seq_len, hidden_size). In this homework, the classification score for a sequence is the classification score for the last step of rnn_outputs.\n",
    "\n"
   ]
  },
  {
   "cell_type": "code",
   "execution_count": 9,
   "metadata": {
    "collapsed": true
   },
   "outputs": [],
   "source": [
    "# sequence classification model\n",
    "class SequenceClassify(nn.Module):\n",
    "    def __init__(self):\n",
    "        super(SequenceClassify, self).__init__()\n",
    "        \n",
    "        ############## 1st To Do (10 points) ##############\n",
    "        ###################################################\n",
    "        self.project_layer = nn.Linear(75,100)\n",
    "        self.recurrent_layer = nn.LSTM(100,100)\n",
    "        \n",
    "        self.classify_layer = nn.Linear(100,10)\n",
    "        ###################################################\n",
    "        \n",
    "        \n",
    "       \n",
    "    \n",
    "    # the size of input is [batch_size, seq_len(15), input_dim(75)]\n",
    "    # the size of logits is [batch_size, num_class]\n",
    "    def forward(self, input, h_t_1=None, c_t_1=None):\n",
    "        # the size of rnn_outputs is [batch_size, seq_len, rnn_size]\n",
    "        rnn_outputs, (hn, cn) = self.recurrent_layer(self.project_layer(input))\n",
    "        #print(hn)\n",
    "        # classify the last step of rnn_outpus\n",
    "        # the size of logits is [batch_size, num_class]\n",
    "        logits = self.classify_layer(rnn_outputs[:,-1])\n",
    "        return logits\n",
    "\n",
    "model = SequenceClassify()"
   ]
  },
  {
   "cell_type": "markdown",
   "metadata": {},
   "source": [
    "## Train the model\n",
    "After you have the dataloader and model, you can start training the model. Define a SGD optimizer with learning rate of 1e-3, and a cross-entropy loss function:"
   ]
  },
  {
   "cell_type": "code",
   "execution_count": 10,
   "metadata": {
    "collapsed": true
   },
   "outputs": [],
   "source": [
    "################ 2nd To Do  (5 points)##################\n",
    "#optimizer = torch.optim.RMSprop(advanced_model.parameters(), lr=0.0003)\n",
    "optimizer=torch.optim.SGD(model.parameters(), lr = 1e-3)\n",
    "\n",
    "\n",
    "criterion = torch.nn.CrossEntropyLoss()"
   ]
  },
  {
   "cell_type": "code",
   "execution_count": 11,
   "metadata": {
    "collapsed": true
   },
   "outputs": [
    {
     "name": "stderr",
     "output_type": "stream",
     "text": [
      "C:\\Users\\Srishti\\Anaconda3\\lib\\site-packages\\ipykernel_launcher.py:31: UserWarning: invalid index of a 0-dim tensor. This will be an error in PyTorch 0.5. Use tensor.item() to convert a 0-dim tensor to a Python number\n"
     ]
    },
    {
     "name": "stdout",
     "output_type": "stream",
     "text": [
      "train Epoch: 0  , Loss: 2.3121,  Accuracy: 9.95\n",
      "val Epoch: 0  , Loss: 2.3099,  Accuracy: 9.75\n"
     ]
    }
   ],
   "source": [
    "# run the model for one epoch\n",
    "# can be used for both training or validation model\n",
    "def run_epoch(data_loader, model, criterion, epoch, is_training, optimizer=None):\n",
    "    if is_training:\n",
    "        model.train()\n",
    "        logger_prefix = 'train'\n",
    "    else:\n",
    "        model.eval()\n",
    "        logger_prefix = 'val'\n",
    "\n",
    "    confusion_matrix = tnt.meter.ConfusionMeter(num_class)\n",
    "    acc = tnt.meter.ClassErrorMeter(accuracy=True)\n",
    "    meter_loss = tnt.meter.AverageValueMeter()\n",
    "\n",
    "    for batch_idx, sample in enumerate(data_loader):\n",
    "        sequence = sample['seq']\n",
    "        label = sample['label']\n",
    "        input_sequence_var = Variable(sequence).type(FloatTensor)\n",
    "        input_label_var = Variable(label).type(LongTensor)\n",
    "\n",
    "        # compute output\n",
    "        # output_logits: [batch_size, num_class]\n",
    "        output_logits = model(input_sequence_var)\n",
    "        loss = criterion(output_logits, input_label_var)\n",
    "\n",
    "        if is_training:\n",
    "            optimizer.zero_grad()\n",
    "            loss.backward()\n",
    "            optimizer.step()\n",
    "\n",
    "        meter_loss.add(loss.data[0])\n",
    "        acc.add(output_logits.data, input_label_var.data)\n",
    "        confusion_matrix.add(output_logits.data, input_label_var.data)\n",
    "\n",
    "\n",
    "    print('%s Epoch: %d  , Loss: %.4f,  Accuracy: %.2f'%(logger_prefix, epoch, meter_loss.value()[0], acc.value()[0]))\n",
    "    return acc.value()[0]\n",
    "\n",
    "num_epochs = 1\n",
    "evaluate_every_epoch = 5\n",
    "for e in range(num_epochs):\n",
    "    run_epoch(trLD, model, criterion, e, True, optimizer)\n",
    "    if e % evaluate_every_epoch == 0:\n",
    "        run_epoch(valLD, model, criterion, e, False, None)   \n"
   ]
  },
  {
   "cell_type": "code",
   "execution_count": 12,
   "metadata": {},
   "outputs": [
    {
     "name": "stderr",
     "output_type": "stream",
     "text": [
      "C:\\Users\\Srishti\\Anaconda3\\lib\\site-packages\\ipykernel_launcher.py:31: UserWarning: invalid index of a 0-dim tensor. This will be an error in PyTorch 0.5. Use tensor.item() to convert a 0-dim tensor to a Python number\n"
     ]
    },
    {
     "name": "stdout",
     "output_type": "stream",
     "text": [
      "train Epoch: 0  , Loss: 1.9872,  Accuracy: 27.00\n",
      "val Epoch: 0  , Loss: 2.0342,  Accuracy: 24.50\n",
      "train Epoch: 1  , Loss: 1.3395,  Accuracy: 55.30\n",
      "val Epoch: 1  , Loss: 1.0904,  Accuracy: 61.25\n",
      "train Epoch: 2  , Loss: 0.9735,  Accuracy: 66.75\n",
      "val Epoch: 2  , Loss: 0.9435,  Accuracy: 65.75\n",
      "train Epoch: 3  , Loss: 0.8066,  Accuracy: 71.45\n",
      "val Epoch: 3  , Loss: 0.8793,  Accuracy: 67.75\n",
      "train Epoch: 4  , Loss: 0.7472,  Accuracy: 72.75\n",
      "val Epoch: 4  , Loss: 1.0320,  Accuracy: 64.50\n",
      "train Epoch: 5  , Loss: 0.6718,  Accuracy: 75.95\n",
      "val Epoch: 5  , Loss: 0.7636,  Accuracy: 73.75\n",
      "train Epoch: 6  , Loss: 0.6545,  Accuracy: 75.50\n",
      "val Epoch: 6  , Loss: 0.7589,  Accuracy: 75.25\n",
      "train Epoch: 7  , Loss: 0.5936,  Accuracy: 78.55\n",
      "val Epoch: 7  , Loss: 0.6453,  Accuracy: 76.00\n",
      "train Epoch: 8  , Loss: 0.5524,  Accuracy: 79.70\n",
      "val Epoch: 8  , Loss: 0.7369,  Accuracy: 74.50\n",
      "train Epoch: 9  , Loss: 0.5510,  Accuracy: 79.80\n",
      "val Epoch: 9  , Loss: 0.5934,  Accuracy: 80.50\n",
      "train Epoch: 10  , Loss: 0.5087,  Accuracy: 82.25\n",
      "val Epoch: 10  , Loss: 0.5730,  Accuracy: 79.50\n",
      "train Epoch: 11  , Loss: 0.4806,  Accuracy: 82.35\n",
      "val Epoch: 11  , Loss: 0.6795,  Accuracy: 77.00\n",
      "train Epoch: 12  , Loss: 0.4556,  Accuracy: 83.25\n",
      "val Epoch: 12  , Loss: 0.5411,  Accuracy: 82.50\n",
      "train Epoch: 13  , Loss: 0.4407,  Accuracy: 83.30\n",
      "val Epoch: 13  , Loss: 0.5260,  Accuracy: 82.75\n",
      "train Epoch: 14  , Loss: 0.4127,  Accuracy: 85.30\n",
      "val Epoch: 14  , Loss: 0.6665,  Accuracy: 79.75\n",
      "train Epoch: 15  , Loss: 0.4099,  Accuracy: 85.65\n",
      "val Epoch: 15  , Loss: 0.5851,  Accuracy: 79.75\n",
      "train Epoch: 16  , Loss: 0.3841,  Accuracy: 86.35\n",
      "val Epoch: 16  , Loss: 0.6826,  Accuracy: 77.75\n",
      "train Epoch: 17  , Loss: 0.3821,  Accuracy: 86.70\n",
      "val Epoch: 17  , Loss: 0.5864,  Accuracy: 82.50\n",
      "train Epoch: 18  , Loss: 0.3700,  Accuracy: 87.20\n",
      "val Epoch: 18  , Loss: 0.5314,  Accuracy: 83.50\n",
      "train Epoch: 19  , Loss: 0.3796,  Accuracy: 86.20\n",
      "val Epoch: 19  , Loss: 0.5923,  Accuracy: 81.00\n",
      "train Epoch: 20  , Loss: 0.3082,  Accuracy: 89.05\n",
      "val Epoch: 20  , Loss: 0.9066,  Accuracy: 73.50\n",
      "train Epoch: 21  , Loss: 0.2903,  Accuracy: 89.70\n",
      "val Epoch: 21  , Loss: 0.6754,  Accuracy: 80.00\n",
      "train Epoch: 22  , Loss: 0.3189,  Accuracy: 89.25\n",
      "val Epoch: 22  , Loss: 0.5033,  Accuracy: 84.75\n",
      "train Epoch: 23  , Loss: 0.2700,  Accuracy: 90.55\n",
      "val Epoch: 23  , Loss: 0.4685,  Accuracy: 86.00\n",
      "train Epoch: 24  , Loss: 0.2860,  Accuracy: 90.45\n",
      "val Epoch: 24  , Loss: 0.5998,  Accuracy: 80.50\n",
      "train Epoch: 25  , Loss: 0.2623,  Accuracy: 90.80\n",
      "val Epoch: 25  , Loss: 0.4371,  Accuracy: 86.00\n",
      "train Epoch: 26  , Loss: 0.2583,  Accuracy: 91.10\n",
      "val Epoch: 26  , Loss: 0.7659,  Accuracy: 77.00\n",
      "train Epoch: 27  , Loss: 0.2533,  Accuracy: 91.15\n",
      "val Epoch: 27  , Loss: 0.4351,  Accuracy: 87.25\n",
      "train Epoch: 28  , Loss: 0.2181,  Accuracy: 92.70\n",
      "val Epoch: 28  , Loss: 0.5262,  Accuracy: 83.75\n",
      "train Epoch: 29  , Loss: 0.2111,  Accuracy: 92.70\n",
      "val Epoch: 29  , Loss: 0.5962,  Accuracy: 84.00\n",
      "train Epoch: 30  , Loss: 0.2062,  Accuracy: 93.30\n",
      "val Epoch: 30  , Loss: 0.7228,  Accuracy: 81.50\n",
      "train Epoch: 31  , Loss: 0.1828,  Accuracy: 93.25\n",
      "val Epoch: 31  , Loss: 0.5042,  Accuracy: 85.50\n",
      "train Epoch: 32  , Loss: 0.1674,  Accuracy: 94.25\n",
      "val Epoch: 32  , Loss: 0.5109,  Accuracy: 85.00\n",
      "train Epoch: 33  , Loss: 0.1471,  Accuracy: 94.75\n",
      "val Epoch: 33  , Loss: 0.5325,  Accuracy: 86.00\n",
      "train Epoch: 34  , Loss: 0.1106,  Accuracy: 95.90\n",
      "val Epoch: 34  , Loss: 0.7001,  Accuracy: 81.75\n",
      "train Epoch: 35  , Loss: 0.1551,  Accuracy: 94.35\n",
      "val Epoch: 35  , Loss: 0.6707,  Accuracy: 83.75\n",
      "train Epoch: 36  , Loss: 0.1772,  Accuracy: 94.10\n",
      "val Epoch: 36  , Loss: 0.6152,  Accuracy: 82.50\n",
      "train Epoch: 37  , Loss: 0.1747,  Accuracy: 94.35\n",
      "val Epoch: 37  , Loss: 0.5324,  Accuracy: 84.75\n",
      "train Epoch: 38  , Loss: 0.1437,  Accuracy: 94.90\n",
      "val Epoch: 38  , Loss: 0.5189,  Accuracy: 86.25\n",
      "train Epoch: 39  , Loss: 0.1138,  Accuracy: 96.15\n",
      "val Epoch: 39  , Loss: 0.5453,  Accuracy: 86.00\n",
      "train Epoch: 40  , Loss: 0.1195,  Accuracy: 96.25\n",
      "val Epoch: 40  , Loss: 0.5357,  Accuracy: 85.50\n",
      "train Epoch: 41  , Loss: 0.1251,  Accuracy: 95.65\n",
      "val Epoch: 41  , Loss: 0.5503,  Accuracy: 86.75\n",
      "train Epoch: 42  , Loss: 0.1109,  Accuracy: 95.95\n",
      "val Epoch: 42  , Loss: 0.6202,  Accuracy: 85.75\n",
      "train Epoch: 43  , Loss: 0.1278,  Accuracy: 95.30\n",
      "val Epoch: 43  , Loss: 0.6870,  Accuracy: 82.25\n",
      "train Epoch: 44  , Loss: 0.1184,  Accuracy: 95.75\n",
      "val Epoch: 44  , Loss: 0.4587,  Accuracy: 87.00\n",
      "train Epoch: 45  , Loss: 0.1072,  Accuracy: 95.90\n",
      "val Epoch: 45  , Loss: 0.6714,  Accuracy: 83.00\n",
      "train Epoch: 46  , Loss: 0.1229,  Accuracy: 95.85\n",
      "val Epoch: 46  , Loss: 0.6579,  Accuracy: 83.25\n",
      "train Epoch: 47  , Loss: 0.1158,  Accuracy: 96.20\n",
      "val Epoch: 47  , Loss: 0.6405,  Accuracy: 84.75\n",
      "train Epoch: 48  , Loss: 0.1224,  Accuracy: 95.70\n",
      "val Epoch: 48  , Loss: 0.6082,  Accuracy: 83.75\n",
      "train Epoch: 49  , Loss: 0.1213,  Accuracy: 95.65\n",
      "val Epoch: 49  , Loss: 0.5976,  Accuracy: 85.75\n"
     ]
    }
   ],
   "source": [
    "# Use your best model to generate results on test set.\n",
    "# advanced model\n",
    "class Flatten(nn.Module):\n",
    "    def forward(self, x):\n",
    "        N, C, H, W = x.size()\n",
    "        return x.view(N, -1)\n",
    "\n",
    "class SequenceClassify1(nn.Module):\n",
    "    def __init__(self):\n",
    "        super(SequenceClassify1, self).__init__()\n",
    "\n",
    "        self.conv_layer = nn.Sequential(\n",
    "            nn.Conv2d(1,400, kernel_size=2, stride=1),\n",
    "            nn.MaxPool2d(2, 2),\n",
    "            nn.LeakyReLU(0.02),\n",
    "            nn.BatchNorm2d(400),\n",
    "            nn.Dropout(0.2),\n",
    "            nn.Conv2d(400, 300, kernel_size=2, stride=1),\n",
    "            nn.MaxPool2d(2, 2),\n",
    "            nn.LeakyReLU(0.02),\n",
    "            nn.BatchNorm2d(300),\n",
    "            nn.Dropout(0.2),\n",
    "            nn.Conv2d(300,200, kernel_size=2, stride=1),\n",
    "            nn.MaxPool2d(2, 2),\n",
    "            nn.LeakyReLU(0.02),\n",
    "            nn.BatchNorm2d(200),\n",
    "            Flatten(),\n",
    "            nn.Linear(1600, 200))\n",
    "        self.recurrent_layer = nn.LSTM(200,400,num_layers = 2,dropout=0.2,bidirectional=True,batch_first=True)\n",
    "        self.classify_layer=nn.Sequential(\n",
    "        nn.Linear(800,400),\n",
    "        nn.LeakyReLU(0.02),\n",
    "        nn.BatchNorm1d(400),\n",
    "        nn.Linear(400,128),\n",
    "        nn.LeakyReLU(0.02),\n",
    "        nn.BatchNorm1d(128),\n",
    "        nn.Linear(128,10))\n",
    "    \n",
    "    def forward(self, input, h_t_1=None, c_t_1=None):\n",
    "        input=input.view(batch_size,1,15,75)\n",
    "        cnn_outputs = self.conv_layer(input)\n",
    "        cnn_outputs=cnn_outputs.view(batch_size,1,200)\n",
    "        rnn_outputs, (hn, cn) = self.recurrent_layer(cnn_outputs)\n",
    "        logits = self.classify_layer(rnn_outputs[:,-1])\n",
    "        return logits\n",
    "model=SequenceClassify1()\n",
    "optimizer_advanced=torch.optim.Adam(model.parameters(), lr=1e-3,amsgrad=True)\n",
    "criterion = torch.nn.CrossEntropyLoss()\n",
    "num_epochs = 50\n",
    "evaluate_every_epoch = 1\n",
    "for e in range(num_epochs):\n",
    "    run_epoch(trLD, model, criterion, e, True, optimizer_advanced)\n",
    "    if e % evaluate_every_epoch == 0:\n",
    "        run_epoch(valLD, model, criterion, e, False, None)  "
   ]
  },
  {
   "cell_type": "code",
   "execution_count": 14,
   "metadata": {
    "collapsed": true
   },
   "outputs": [
    {
     "name": "stdout",
     "output_type": "stream",
     "text": [
      "1000\n"
     ]
    }
   ],
   "source": [
    "# generate csv file for test set\n",
    "def predict_on_test(model, data_loader):\n",
    "    model.eval() # Put the model in test mode (the opposite of model.train(), essentially)\n",
    "    results=open('results_cnn5.csv','w')\n",
    "    count=0\n",
    "    results.write('Id'+','+'Class'+'\\n')\n",
    "    for batch_idx, sample in enumerate(data_loader):\n",
    "        sequence = sample['seq']\n",
    "        input_sequence_var = Variable(sequence).type(FloatTensor)\n",
    "        scores = model(input_sequence_var)\n",
    "        _, preds = scores.data.max(1)\n",
    "        for i in range(len(preds)):\n",
    "            results.write(str(count)+','+str(preds[i])+'\\n')\n",
    "            count+=1\n",
    "    results.close()\n",
    "    return count\n",
    "\n",
    "count=predict_on_test(model, tstLD)\n",
    "print(count)"
   ]
  },
  {
   "cell_type": "markdown",
   "metadata": {},
   "source": [
    "## Report the performance\n",
    "################ 4th To Do  (5 points)##################\n",
    "\n",
    "In this cell, you should write an explanation of what you did (network architecture, optimiziter, learning rate, epochs) and any visualizations or graphs that you make in the process of training and evaluating your network.\n",
    "\n",
    "Report your Kaggle Performance here:"
   ]
  },
  {
   "cell_type": "markdown",
   "metadata": {},
   "source": []
  },
  {
   "cell_type": "markdown",
   "metadata": {},
   "source": [
    "I tried different types of architecture like Lstm,bidirectional LSTM, Lstm with convolutional network, tried various kernel sizes\n",
    "in cnn layer and different number of lstm layers.\n",
    "Final network architecture:\n",
    "    I used convlutional layer, recurrent layer and classify layer.\n",
    "    convolutional layer has the following architecture:\n",
    "    - convolutional layer with 400 filters of size 2X2 and stride 1\n",
    "    - Max pool layer of size 2X2 and stride 2\n",
    "    - leakyrelu with alpha= 0.02\n",
    "    - batch normalization\n",
    "    - convolutional layer with 300 filters of size 2X2 and stride 1\n",
    "    - Max pool layer of size 2X2 and stride 2\n",
    "    - leakyrelu with alpha= 0.02\n",
    "    - batch normalization\n",
    "    - convolutional layer with 200 filters of size 2X2 and stride 1\n",
    "    - Max pool layer of size 2X2 and stride 2\n",
    "    - leakyrelu with alpha= 0.02\n",
    "    - batch normalization\n",
    "    - Flatten\n",
    "    - linear layer with input 1600 and output size 200\n",
    "            \n",
    "    recurrent layer has the following parameters:\n",
    "    - I used bidirectional lstm, with num of layers=2, dropout=0.2\n",
    "    \n",
    "    Classify layer has the following architecture:\n",
    "    - Linear layer with input as 800 and output 400\n",
    "    -leakyrelu layer with alpha 0.02\n",
    "    -batchnormalization\n",
    "    -linear layer with input as 400 and output as 128\n",
    "    -leakyrelu with alpha 0.02\n",
    "    -batchnormalization\n",
    "    -linear layer with input as 128 and 10 outputs\n",
    "        \n",
    "        \n",
    "        \n",
    "optimizer: tried rmsprop and adam, finally used adam optimizer with learning rate=1e-3\n",
    "epochs: tried many epochs, finally ran my model on 50 epochs and got training accuracy of around 96 % and validation accuracy of around  86 %."
   ]
  },
  {
   "cell_type": "markdown",
   "metadata": {},
   "source": [
    "Kaggle score :- 0.83\n",
    "kaggle rank :- 8"
   ]
  },
  {
   "cell_type": "code",
   "execution_count": null,
   "metadata": {},
   "outputs": [],
   "source": []
  }
 ],
 "metadata": {
  "kernelspec": {
   "display_name": "Python 3",
   "language": "python",
   "name": "python3"
  },
  "language_info": {
   "codemirror_mode": {
    "name": "ipython",
    "version": 3
   },
   "file_extension": ".py",
   "mimetype": "text/x-python",
   "name": "python",
   "nbconvert_exporter": "python",
   "pygments_lexer": "ipython3",
   "version": "3.6.5"
  }
 },
 "nbformat": 4,
 "nbformat_minor": 2
}
